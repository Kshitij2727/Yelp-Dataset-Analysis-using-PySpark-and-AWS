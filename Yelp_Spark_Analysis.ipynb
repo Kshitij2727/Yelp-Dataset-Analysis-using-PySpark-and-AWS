{
	"metadata": {
		"kernelspec": {
			"name": "glue_pyspark",
			"display_name": "Glue PySpark",
			"language": "python"
		},
		"language_info": {
			"name": "Python_Glue_Session",
			"mimetype": "text/x-python",
			"codemirror_mode": {
				"name": "python",
				"version": 3
			},
			"pygments_lexer": "python3",
			"file_extension": ".py"
		}
	},
	"nbformat_minor": 4,
	"nbformat": 4,
	"cells": [
		{
			"cell_type": "markdown",
			"source": "\n# Glue Studio Notebook\nYou are now running a **Glue Studio** notebook; before you can start using your notebook you *must* start an interactive session.\n\n## Available Magics\n|          Magic              |   Type       |                                                                        Description                                                                        |\n|-----------------------------|--------------|-----------------------------------------------------------------------------------------------------------------------------------------------------------|\n| %%configure                 |  Dictionary  |  A json-formatted dictionary consisting of all configuration parameters for a session. Each parameter can be specified here or through individual magics. |\n| %profile                    |  String      |  Specify a profile in your aws configuration to use as the credentials provider.                                                                          |\n| %iam_role                   |  String      |  Specify an IAM role to execute your session with.                                                                                                        |\n| %region                     |  String      |  Specify the AWS region in which to initialize a session                                                                                                  |\n| %session_id                 |  String      |  Returns the session ID for the running session.                                                                                                          |\n| %connections                |  List        |  Specify a comma separated list of connections to use in the session.                                                                                     |\n| %additional_python_modules  |  List        |  Comma separated list of pip packages, s3 paths or private pip arguments.                                                                                 |\n| %extra_py_files             |  List        |  Comma separated list of additional Python files from S3.                                                                                                 |\n| %extra_jars                 |  List        |  Comma separated list of additional Jars to include in the cluster.                                                                                       |\n| %number_of_workers          |  Integer     |  The number of workers of a defined worker_type that are allocated when a job runs. worker_type must be set too.                                          |\n| %worker_type                |  String      |  Standard, G.1X, *or* G.2X. number_of_workers must be set too. Default is G.1X                                                                            |\n| %glue_version               |  String      |  The version of Glue to be used by this session. Currently, the only valid options are 2.0 and 3.0 (eg: %glue_version 2.0)                                |\n| %security_config            |  String      |  Define a security configuration to be used with this session.                                                                                            |\n| %sql                        |  String      |  Run SQL code. All lines after the initial %%sql magic will be passed as part of the SQL code.                                                            |\n| %streaming                  |  String      |  Changes the session type to Glue Streaming.                                                                                                              |\n| %etl                        |  String      |   Changes the session type to Glue ETL.                                                                                                                   |\n| %status                     |              |  Returns the status of the current Glue session including its duration, configuration and executing user / role.                                          |\n| %stop_session               |              |  Stops the current session.                                                                                                                               |\n| %list_sessions              |              |  Lists all currently running sessions by name and ID.                                                                                                     |\n| %spark_conf                 |  String      |  Specify custom spark configurations for your session. E.g. %spark_conf spark.serializer=org.apache.spark.serializer.KryoSerializer                       |",
			"metadata": {
				"editable": false,
				"deletable": false,
				"trusted": true
			}
		},
		{
			"cell_type": "code",
			"source": "import sys\nfrom awsglue.transforms import *\nfrom awsglue.utils import getResolvedOptions\nfrom pyspark.context import SparkContext\nfrom awsglue.context import GlueContext\nfrom awsglue.job import Job\n  \nsc = SparkContext.getOrCreate()\nglueContext = GlueContext(sc)\nspark = glueContext.spark_session\njob = Job(glueContext)",
			"metadata": {
				"editable": true,
				"trusted": true
			},
			"execution_count": null,
			"outputs": [
				{
					"name": "stdout",
					"text": "Welcome to the Glue Interactive Sessions Kernel\nFor more information on available magic commands, please type %help in any new cell.\n\nPlease view our Getting Started page to access the most up-to-date information on the Interactive Sessions kernel: https://docs.aws.amazon.com/glue/latest/dg/interactive-sessions.html\nInstalled kernel version: 0.35 \nAuthenticating with environment variables and user-defined glue_role_arn: arn:aws:iam::601591369946:role/Kshitij_Glue_Service_and_S3\nTrying to create a Glue session for the kernel.\nWorker Type: G.1X\nNumber of Workers: 5\nSession ID: dee30aae-2bfb-4dac-b067-e30c1e7734f5\nApplying the following default arguments:\n--glue_kernel_version 0.35\n--enable-glue-datacatalog true\nWaiting for session dee30aae-2bfb-4dac-b067-e30c1e7734f5 to get into ready status...\nSession dee30aae-2bfb-4dac-b067-e30c1e7734f5 has been created\n\n\n",
					"output_type": "stream"
				}
			]
		},
		{
			"cell_type": "code",
			"source": "business_df = spark.read.parquet(\"s3://yelp-dataset-kshitij/output/yelp_academic_dataset_business/*.parquet\")\ntip_df = spark.read.parquet(\"s3://yelp-dataset-kshitij/output/yelp_academic_dataset_tip/*.parquet\")\nuser_df = spark.read.parquet(\"s3://yelp-dataset-kshitij/output/yelp_academic_dataset_user/*.parquet\")\nreview_df = spark.read.parquet(\"s3://yelp-dataset-kshitij/output/yelp_academic_dataset_review/*.parquet\")",
			"metadata": {
				"trusted": true
			},
			"execution_count": 1,
			"outputs": [
				{
					"name": "stdout",
					"text": "\n",
					"output_type": "stream"
				}
			]
		},
		{
			"cell_type": "code",
			"source": "print(\"Total records in business file is : \",business_df.count())\nprint(\"Total records in tip file is : \",tip_df.count())\nprint(\"Total records in user file is : \",user_df.count())\nprint(\"Total records in review file is : \",review_df.count())",
			"metadata": {
				"trusted": true
			},
			"execution_count": 2,
			"outputs": [
				{
					"name": "stdout",
					"text": "Total records in business file is :  42153\nTotal records in tip file is :  403210\nTotal records in user file is :  252898\nTotal records in review file is :  1125458\n",
					"output_type": "stream"
				}
			]
		},
		{
			"cell_type": "code",
			"source": "import pyspark.sql.functions as f\ntip_df = tip_df.withColumn(\"tip_year\",f.year(f.to_date(f.col(\"date\"))))\ntip_df = tip_df.withColumn(\"tip_month\",f.month(f.to_date(f.col(\"date\"))))\ntip_df.show()",
			"metadata": {
				"trusted": true
			},
			"execution_count": 3,
			"outputs": [
				{
					"name": "stdout",
					"text": "+--------------------+----------+-----+--------------------+----+--------------------+--------+---------+\n|         business_id|      date|likes|                text|type|             user_id|tip_year|tip_month|\n+--------------------+----------+-----+--------------------+----+--------------------+--------+---------+\n|UETunq2HsmwW9pbsS...|2014-03-02|    0|Yep, get the big ...| tip|VexAJmqOClKzm8KbY...|    2014|        3|\n|UETunq2HsmwW9pbsS...|2014-03-02|    0|With your combo, ...| tip|VexAJmqOClKzm8KbY...|    2014|        3|\n|UETunq2HsmwW9pbsS...|2014-07-27|    0|Traditional fish ...| tip|V8VL7b1J5WOLrZrTE...|    2014|        7|\n|UETunq2HsmwW9pbsS...|2012-09-22|    0|Custom noodle style!| tip|e9HWnHUYlt9758oil...|    2012|        9|\n|8Zlm1VmscYMn_9LtK...|2013-02-23|    0|They clean your g...| tip|jGuCy1xZnpIE0xppb...|    2013|        2|\n|8Zlm1VmscYMn_9LtK...|2013-10-11|    0|     Shopping.. Love| tip|wRq6j5TozIiyPfVnZ...|    2013|       10|\n|8Zlm1VmscYMn_9LtK...|2014-07-12|    0|Elegant classy......| tip|4NrQ3rVKvIy4lvQqY...|    2014|        7|\n|QjRviSpE_dMEuSX-f...|2013-03-30|    0|I found the most ...| tip|b2XPhXPQ41qWysIK6...|    2013|        3|\n|Q19gSL2gPn-v0pOsn...|2013-06-17|    0|Be ready to share...| tip|DEc_48vZ1s70k-wfY...|    2013|        6|\n|Q19gSL2gPn-v0pOsn...|2013-04-14|    0|Fantastic!! Enoug...| tip|45hg3tzEPD-PnvSei...|    2013|        4|\n|KvIVxlyFoOtSRuLeA...|2013-06-01|    0|Recommend the sha...| tip|TV2x0Wc8ZfmsUgQEt...|    2013|        6|\n|C3ITrzv55LyMvwkm2...|2012-10-22|    0|If you've come in...| tip|6ux_7Z6ycYYvC8PNx...|    2012|       10|\n|C3ITrzv55LyMvwkm2...|2012-12-15|    0|You don't need ti...| tip|6ux_7Z6ycYYvC8PNx...|    2012|       12|\n|C3ITrzv55LyMvwkm2...|2013-04-14|    0|Officially the on...| tip|6ux_7Z6ycYYvC8PNx...|    2013|        4|\n|C3ITrzv55LyMvwkm2...|2013-12-13|    0|Wonderful farm sh...| tip|t8mTGXXe8u5WF7mvN...|    2013|       12|\n|C3ITrzv55LyMvwkm2...|2014-03-23|    0|     Sunny and cosy.| tip|OtR7HfadZXyFYosUz...|    2014|        3|\n|C3ITrzv55LyMvwkm2...|2012-08-10|    0|Very cool wee spo...| tip|Xk8WOG4_2sayloIV7...|    2012|        8|\n|hnKSsx218Bh9qxvRp...|2012-10-12|    0|             Closed.| tip|zWpen_4YcuFnqzBSf...|    2012|       10|\n|hnKSsx218Bh9qxvRp...|2012-10-17|    0|This restaurant h...| tip|4OFBC6ZZ6YC3_MB52...|    2012|       10|\n|hnKSsx218Bh9qxvRp...|2012-08-07|    0|Management is try...| tip|ep26obtvoPtCPYJVi...|    2012|        8|\n+--------------------+----------+-----+--------------------+----+--------------------+--------+---------+\nonly showing top 20 rows\n",
					"output_type": "stream"
				}
			]
		},
		{
			"cell_type": "code",
			"source": "user_df.createOrReplaceTempView(\"user\")",
			"metadata": {
				"trusted": true
			},
			"execution_count": 6,
			"outputs": [
				{
					"name": "stdout",
					"text": "\n",
					"output_type": "stream"
				}
			]
		},
		{
			"cell_type": "code",
			"source": "%%sql\nselect name,user_id,review_count from user order by review_count desc limit 5",
			"metadata": {
				"trusted": true
			},
			"execution_count": 10,
			"outputs": [
				{
					"name": "stdout",
					"text": "+--------+--------------------+------------+\n|    name|             user_id|review_count|\n+--------+--------------------+------------+\n|  Victor|JLM36sYWmouJAZ2kn...|        8062|\n|Jennifer|22-6yC05pgWbLupHZ...|        4244|\n|   Anita|pz97SxRe1Vk-5_K6E...|        3829|\n|   Bruce|VhI6xyylcAxi0wOy2...|        3790|\n| Kenneth|3zBKfA8-_fJRagWST...|        3337|\n+--------+--------------------+------------+\n",
					"output_type": "stream"
				}
			]
		},
		{
			"cell_type": "code",
			"source": "%%sql \nselect name,user_id, average_stars from user order by average_stars desc limit 10",
			"metadata": {
				"trusted": true
			},
			"execution_count": 21,
			"outputs": [
				{
					"name": "stdout",
					"text": "+--------+--------------------+-------------+\n|    name|             user_id|average_stars|\n+--------+--------------------+-------------+\n|    Ryan|Pg38ecKBtQl4ARKlu...|          5.0|\n|     Liz|t4WMl2WTMF_SBPmFP...|          5.0|\n| Susanna|0Hm4dzolMayQqYl1O...|          5.0|\n|   Isaac|mh82Bh93fcpRcfR6C...|          5.0|\n|   Frank|LK4Qu9zEcVn4G51I8...|          5.0|\n|   Naeun|qBl3BXtZvA2Z_h8gG...|          5.0|\n|  Nathan|DvhP9SV53SVlj8Hlv...|          5.0|\n|Jennifer|5CqD_efRdiw_lDiTG...|          5.0|\n|   Maria|NCy3OHjvsy8l1b-AF...|          5.0|\n|     Eli|TMyTgSMmE2qQ2D6wF...|          5.0|\n+--------+--------------------+-------------+\n",
					"output_type": "stream"
				}
			]
		},
		{
			"cell_type": "code",
			"source": "business_df.show()",
			"metadata": {
				"trusted": true
			},
			"execution_count": 22,
			"outputs": [
				{
					"name": "stdout",
					"text": "+--------------------+--------------------+----------+------------+-----+-----+--------+\n|         business_id|          categories|      city|review_count|stars|state|    type|\n+--------------------+--------------------+----------+------------+-----+-----+--------+\n|Hpxv1f3l99AHECGnJ...|[Hair Salons, Bea...|Enterprise|           9|  4.0|   NV|business|\n|YCCDMLcb7UW8G-o_H...|[Steakhouses, Ame...|Scottsdale|         247|  4.0|   AZ|business|\n|wdjehzTZcqSzYRKSy...|[Mexican, Restaur...| Las Vegas|          15|  4.5|   NV|business|\n|QY0z7UW84ANFkJCYD...|    [Bakeries, Food]|   Phoenix|           3|  5.0|   AZ|business|\n|yIuVbOjP6K7BRELWX...|[Delis, Restaurants]|Scottsdale|          68|  3.5|   AZ|business|\n|Uv3dwiYJ1GXy-eb3o...| [Active Life, Golf]| Las Vegas|          23|  4.0|   NV|business|\n|yAhVoAw0H0V77zGNJ...|[Food, Juice Bars...|  Paradise|          12|  3.0|   NV|business|\n|qkbloHdDZuHf_0wTq...|       [Restaurants]|   Phoenix|         109|  3.5|   AZ|business|\n|KBkyhge5PfKW4q-p1...|[Mexican, Restaur...|  Paradise|           4|  3.5|   NV|business|\n|tWOEA27pEpCjTPql0...|[Arts & Entertain...| Las Vegas|         100|  2.0|   NV|business|\n|n0p8WRWAT5W6Ea3bc...|[Vegetarian, Sand...| Las Vegas|          39|  4.5|   NV|business|\n|m1HZpK6YFv3n7e2TV...|[Active Life, Fit...|  Chandler|           8|  1.5|   AZ|business|\n|pt-ELe9UjnpQBj72K...|[Sporting Goods, ...|    Peoria|           9|  4.0|   AZ|business|\n|pkhWmQTUkH_KKWVzr...|[Thrift Stores, S...|  Chandler|          12|  3.5|   AZ|business|\n|yx26E1UqJBWf4cCyV...|[Thrift Stores, S...|     Tempe|           7|  3.5|   AZ|business|\n|tE17uH0g1sOuM7tiO...|[Hotels & Travel,...| Edinburgh|           5|  4.0|  EDH|business|\n|p0yRU7lYGqd-Wr0eU...|[Landscaping, Lan...|   Phoenix|           3|  3.5|   AZ|business|\n|c5mGzf4ovtEglIzlX...|[Irish, Bars, Bur...|   Phoenix|          41|  3.5|   AZ|business|\n|QYSBBLmZi-Cuw0sWz...|[Food, Beer, Wine...|   Phoenix|         105|  4.5|   AZ|business|\n|RGDyf8-PyzyS9Lzs9...|[Italian, Pizza, ...|   Phoenix|         137|  4.0|   AZ|business|\n+--------------------+--------------------+----------+------------+-----+-----+--------+\nonly showing top 20 rows\n",
					"output_type": "stream"
				}
			]
		},
		{
			"cell_type": "code",
			"source": "from pyspark.sql import Window\nbusiness_df_ctgy = business_df.groupBy(\"categories\").agg(f.count(\"review_count\").alias(\"Total_review_count\"))\ndf_top_categories = business_df_ctgy.withColumn(\"rnk\",f.row_number().over(Window.orderBy(f.col('Total_review_count').desc())))\ndf_top_categories = df_top_categories.filter(f.col('rnk')<=10)\ndf_top_categories.show()",
			"metadata": {
				"trusted": true
			},
			"execution_count": 23,
			"outputs": [
				{
					"name": "stdout",
					"text": "+--------------------+------------------+---+\n|          categories|Total_review_count|rnk|\n+--------------------+------------------+---+\n|[Mexican, Restaur...|              1230|  1|\n|[Pizza, Restaurants]|               709|  2|\n|[Beauty & Spas, N...|               681|  3|\n|[Food, Coffee & Tea]|               665|  4|\n|[Hotels & Travel,...|               632|  5|\n|[Chinese, Restaur...|               616|  6|\n|[Fast Food, Resta...|               518|  7|\n|[Sandwiches, Rest...|               493|  8|\n|[Hair Salons, Bea...|               444|  9|\n|[American (Tradit...|               431| 10|\n+--------------------+------------------+---+\n",
					"output_type": "stream"
				}
			]
		},
		{
			"cell_type": "code",
			"source": "business_df_clean = business_df.na.drop() #Dropping the rows having null values\nbusiness_df_one_category = business_df_clean.withColumn(\"categories\",business_df_clean.categories[0]) #Selecting categories list first element in category\nbusiness_df_one_category.show()",
			"metadata": {
				"trusted": true
			},
			"execution_count": 32,
			"outputs": [
				{
					"name": "stdout",
					"text": "+--------------------+--------------------+----------+------------+-----+-----+--------+\n|         business_id|          categories|      city|review_count|stars|state|    type|\n+--------------------+--------------------+----------+------------+-----+-----+--------+\n|Hpxv1f3l99AHECGnJ...|         Hair Salons|Enterprise|           9|  4.0|   NV|business|\n|YCCDMLcb7UW8G-o_H...|         Steakhouses|Scottsdale|         247|  4.0|   AZ|business|\n|wdjehzTZcqSzYRKSy...|             Mexican| Las Vegas|          15|  4.5|   NV|business|\n|QY0z7UW84ANFkJCYD...|            Bakeries|   Phoenix|           3|  5.0|   AZ|business|\n|yIuVbOjP6K7BRELWX...|               Delis|Scottsdale|          68|  3.5|   AZ|business|\n|Uv3dwiYJ1GXy-eb3o...|         Active Life| Las Vegas|          23|  4.0|   NV|business|\n|yAhVoAw0H0V77zGNJ...|                Food|  Paradise|          12|  3.0|   NV|business|\n|qkbloHdDZuHf_0wTq...|         Restaurants|   Phoenix|         109|  3.5|   AZ|business|\n|KBkyhge5PfKW4q-p1...|             Mexican|  Paradise|           4|  3.5|   NV|business|\n|tWOEA27pEpCjTPql0...|Arts & Entertainment| Las Vegas|         100|  2.0|   NV|business|\n|n0p8WRWAT5W6Ea3bc...|          Vegetarian| Las Vegas|          39|  4.5|   NV|business|\n|m1HZpK6YFv3n7e2TV...|         Active Life|  Chandler|           8|  1.5|   AZ|business|\n|pt-ELe9UjnpQBj72K...|      Sporting Goods|    Peoria|           9|  4.0|   AZ|business|\n|pkhWmQTUkH_KKWVzr...|       Thrift Stores|  Chandler|          12|  3.5|   AZ|business|\n|yx26E1UqJBWf4cCyV...|       Thrift Stores|     Tempe|           7|  3.5|   AZ|business|\n|tE17uH0g1sOuM7tiO...|     Hotels & Travel| Edinburgh|           5|  4.0|  EDH|business|\n|p0yRU7lYGqd-Wr0eU...|         Landscaping|   Phoenix|           3|  3.5|   AZ|business|\n|c5mGzf4ovtEglIzlX...|               Irish|   Phoenix|          41|  3.5|   AZ|business|\n|QYSBBLmZi-Cuw0sWz...|                Food|   Phoenix|         105|  4.5|   AZ|business|\n|RGDyf8-PyzyS9Lzs9...|             Italian|   Phoenix|         137|  4.0|   AZ|business|\n+--------------------+--------------------+----------+------------+-----+-----+--------+\nonly showing top 20 rows\n",
					"output_type": "stream"
				}
			]
		},
		{
			"cell_type": "code",
			"source": "business_df_ctgy = business_df_one_category.groupBy(\"categories\").agg(f.count(\"review_count\").alias(\"Total_review_count\"))\ndf_top_categories = business_df_ctgy.withColumn(\"rnk\",f.row_number().over(Window.orderBy(f.col('Total_review_count').desc())))\ndf_top_categories = df_top_categories.filter(f.col('rnk')<=10)\ndf_top_categories.show()",
			"metadata": {
				"trusted": true
			},
			"execution_count": 33,
			"outputs": [
				{
					"name": "stdout",
					"text": "+--------------------+------------------+---+\n|          categories|Total_review_count|rnk|\n+--------------------+------------------+---+\n|                Food|              4294|  1|\n|            Shopping|              1885|  2|\n|         Active Life|              1676|  3|\n|                Bars|              1366|  4|\n|      Local Services|              1351|  5|\n|             Mexican|              1284|  6|\n|     Hotels & Travel|              1283|  7|\n|           Fast Food|               963|  8|\n|Arts & Entertainment|               906|  9|\n|         Hair Salons|               901| 10|\n+--------------------+------------------+---+\n",
					"output_type": "stream"
				}
			]
		},
		{
			"cell_type": "code",
			"source": "business_df_one_category.createOrReplaceTempView(\"business\")",
			"metadata": {
				"trusted": true
			},
			"execution_count": 34,
			"outputs": [
				{
					"name": "stdout",
					"text": "\n",
					"output_type": "stream"
				}
			]
		},
		{
			"cell_type": "code",
			"source": "%%sql\nselect categories,total_review_count from (\n     select business_categories.*,\n     ROW_NUMBER() OVER (ORDER BY total_review_count DESC) rn\n     FROM (select categories,count(review_count) as total_review_count from business group by categories ) business_categories\n     ) where rn <=10",
			"metadata": {
				"trusted": true
			},
			"execution_count": 35,
			"outputs": [
				{
					"name": "stdout",
					"text": "+--------------------+------------------+\n|          categories|total_review_count|\n+--------------------+------------------+\n|                Food|              4294|\n|            Shopping|              1885|\n|         Active Life|              1676|\n|                Bars|              1366|\n|      Local Services|              1351|\n|             Mexican|              1284|\n|     Hotels & Travel|              1283|\n|           Fast Food|               963|\n|Arts & Entertainment|               906|\n|         Hair Salons|               901|\n+--------------------+------------------+\n",
					"output_type": "stream"
				}
			]
		},
		{
			"cell_type": "code",
			"source": "business_review_df = business_df_one_category.groupBy(\"categories\").agg(f.count(\"review_count\").alias(\"total_review_count\"))\ntop_business_df = business_review_df.filter(business_review_df.total_review_count >=1000).orderBy(f.desc(\"total_review_count\"))\ntop_business_df.show()",
			"metadata": {
				"trusted": true
			},
			"execution_count": 37,
			"outputs": [
				{
					"name": "stdout",
					"text": "+---------------+------------------+\n|     categories|total_review_count|\n+---------------+------------------+\n|           Food|              4294|\n|       Shopping|              1885|\n|    Active Life|              1676|\n|           Bars|              1366|\n| Local Services|              1351|\n|        Mexican|              1284|\n|Hotels & Travel|              1283|\n+---------------+------------------+\n",
					"output_type": "stream"
				}
			]
		},
		{
			"cell_type": "code",
			"source": "number_of_restaurants_df = business_df_one_category.select(\"state\").groupBy(\"state\").count().orderBy(f.desc(\"count\"))\nnumber_of_restaurants_df.show()",
			"metadata": {
				"trusted": true
			},
			"execution_count": 38,
			"outputs": [
				{
					"name": "stdout",
					"text": "+-----+-----+\n|state|count|\n+-----+-----+\n|   AZ|22181|\n|   NV|14583|\n|  EDH| 2841|\n|   WI| 2118|\n|   ON|  305|\n|  MLN|  102|\n|  ELN|    8|\n|  FIF|    3|\n|  SCB|    2|\n|   NY|    2|\n|   NC|    1|\n|  KHL|    1|\n|   MA|    1|\n|   MN|    1|\n|  NTH|    1|\n|  XGL|    1|\n|   CA|    1|\n|   GA|    1|\n+-----+-----+\n",
					"output_type": "stream"
				}
			]
		},
		{
			"cell_type": "code",
			"source": "%%sql\nselect *from (\n    select state,city,review_count,\n    ROW_NUMBER() OVER(PARTITION BY state order by review_count desc ) rn \n    from business \n    ) where rn<=3",
			"metadata": {
				"trusted": true
			},
			"execution_count": 42,
			"outputs": [
				{
					"name": "stdout",
					"text": "+-----+---------+------------+---+\n|state|     city|review_count| rn|\n+-----+---------+------------+---+\n|   AZ|  Phoenix|        1325|  1|\n|   AZ|  Phoenix|        1289|  2|\n|   AZ|    Tempe|        1110|  3|\n|   GA|  Atlanta|          16|  1|\n|  XGL|Edinburgh|           4|  1|\n|   MA|Middleton|           5|  1|\n|   MN|    Eagan|           3|  1|\n|   NY|Rochester|          10|  1|\n|   NY| New York|           4|  2|\n|   ON| Waterloo|          48|  1|\n|   ON| Waterloo|          39|  2|\n|   ON| Waterloo|          38|  3|\n|   NV|Las Vegas|        4084|  1|\n|   NV|Las Vegas|        3655|  2|\n|   NV|Las Vegas|        3408|  3|\n|  EDH|Edinburgh|         239|  1|\n|  EDH|Edinburgh|         117|  2|\n|  EDH|Edinburgh|         112|  3|\n|   WI|  Madison|         619|  1|\n|   WI|  Madison|         406|  2|\n+-----+---------+------------+---+\nonly showing top 20 rows\n",
					"output_type": "stream"
				}
			]
		},
		{
			"cell_type": "code",
			"source": "#Top 5 cities in NV where people reviewed the most \nbusiness_nv_df =  business_df_one_category.filter(business_df_one_category.state==\"NV\")\ntop_ctgy_nv_df = business_nv_df.groupBy('city').agg(f.count(\"review_count\").alias(\"total_review_count\"))\ntop_ctgy_nv_df = top_ctgy_nv_df.orderBy(f.desc('total_review_count')).limit(5)\ntop_ctgy_nv_df.show()",
			"metadata": {
				"trusted": true
			},
			"execution_count": 55,
			"outputs": [
				{
					"name": "stdout",
					"text": "+---------------+------------------+\n|           city|total_review_count|\n+---------------+------------------+\n|      Las Vegas|             12021|\n|      Henderson|              1914|\n|North Las Vegas|               521|\n|   Boulder City|                24|\n|       Paradise|                20|\n+---------------+------------------+\n",
					"output_type": "stream"
				}
			]
		},
		{
			"cell_type": "code",
			"source": "tip_df.show()",
			"metadata": {
				"trusted": true
			},
			"execution_count": 56,
			"outputs": [
				{
					"name": "stdout",
					"text": "+--------------------+----------+-----+--------------------+----+--------------------+--------+---------+\n|         business_id|      date|likes|                text|type|             user_id|tip_year|tip_month|\n+--------------------+----------+-----+--------------------+----+--------------------+--------+---------+\n|UETunq2HsmwW9pbsS...|2014-03-02|    0|Yep, get the big ...| tip|VexAJmqOClKzm8KbY...|    2014|        3|\n|UETunq2HsmwW9pbsS...|2014-03-02|    0|With your combo, ...| tip|VexAJmqOClKzm8KbY...|    2014|        3|\n|UETunq2HsmwW9pbsS...|2014-07-27|    0|Traditional fish ...| tip|V8VL7b1J5WOLrZrTE...|    2014|        7|\n|UETunq2HsmwW9pbsS...|2012-09-22|    0|Custom noodle style!| tip|e9HWnHUYlt9758oil...|    2012|        9|\n|8Zlm1VmscYMn_9LtK...|2013-02-23|    0|They clean your g...| tip|jGuCy1xZnpIE0xppb...|    2013|        2|\n|8Zlm1VmscYMn_9LtK...|2013-10-11|    0|     Shopping.. Love| tip|wRq6j5TozIiyPfVnZ...|    2013|       10|\n|8Zlm1VmscYMn_9LtK...|2014-07-12|    0|Elegant classy......| tip|4NrQ3rVKvIy4lvQqY...|    2014|        7|\n|QjRviSpE_dMEuSX-f...|2013-03-30|    0|I found the most ...| tip|b2XPhXPQ41qWysIK6...|    2013|        3|\n|Q19gSL2gPn-v0pOsn...|2013-06-17|    0|Be ready to share...| tip|DEc_48vZ1s70k-wfY...|    2013|        6|\n|Q19gSL2gPn-v0pOsn...|2013-04-14|    0|Fantastic!! Enoug...| tip|45hg3tzEPD-PnvSei...|    2013|        4|\n|KvIVxlyFoOtSRuLeA...|2013-06-01|    0|Recommend the sha...| tip|TV2x0Wc8ZfmsUgQEt...|    2013|        6|\n|C3ITrzv55LyMvwkm2...|2012-10-22|    0|If you've come in...| tip|6ux_7Z6ycYYvC8PNx...|    2012|       10|\n|C3ITrzv55LyMvwkm2...|2012-12-15|    0|You don't need ti...| tip|6ux_7Z6ycYYvC8PNx...|    2012|       12|\n|C3ITrzv55LyMvwkm2...|2013-04-14|    0|Officially the on...| tip|6ux_7Z6ycYYvC8PNx...|    2013|        4|\n|C3ITrzv55LyMvwkm2...|2013-12-13|    0|Wonderful farm sh...| tip|t8mTGXXe8u5WF7mvN...|    2013|       12|\n|C3ITrzv55LyMvwkm2...|2014-03-23|    0|     Sunny and cosy.| tip|OtR7HfadZXyFYosUz...|    2014|        3|\n|C3ITrzv55LyMvwkm2...|2012-08-10|    0|Very cool wee spo...| tip|Xk8WOG4_2sayloIV7...|    2012|        8|\n|hnKSsx218Bh9qxvRp...|2012-10-12|    0|             Closed.| tip|zWpen_4YcuFnqzBSf...|    2012|       10|\n|hnKSsx218Bh9qxvRp...|2012-10-17|    0|This restaurant h...| tip|4OFBC6ZZ6YC3_MB52...|    2012|       10|\n|hnKSsx218Bh9qxvRp...|2012-08-07|    0|Management is try...| tip|ep26obtvoPtCPYJVi...|    2012|        8|\n+--------------------+----------+-----+--------------------+----+--------------------+--------+---------+\nonly showing top 20 rows\n",
					"output_type": "stream"
				}
			]
		},
		{
			"cell_type": "code",
			"source": "user_df.show()",
			"metadata": {
				"trusted": true
			},
			"execution_count": 57,
			"outputs": [
				{
					"name": "stdout",
					"text": "+-------------+-------+------------+--------------------+-------------+\n|average_stars|   name|review_count|             user_id|yelping_since|\n+-------------+-------+------------+--------------------+-------------+\n|         4.07|  Suzzi|          15|WWoIIo1OcPWW3LFTR...|      2012-10|\n|         3.33|  Chris|           3|ssaX6cEzE09MTMR5G...|      2009-12|\n|         2.75|  Derek|          16|Wvtn9aKFXGcIeKaak...|      2011-02|\n|         3.69|  Erika|          26|RZxdXUG9oUQKje9ZZ...|      2012-07|\n|         3.32|  Tommy|         333|wXyJSZYXgEgzQZg7q...|      2007-04|\n|          3.0|  Jenny|           2|cb_nRxYeu3EDEWksv...|      2011-09|\n|          3.8|    Joe|          21|Y8dD8_IZ3zSGHirfD...|      2009-12|\n|          2.0|Johanna|          10|gIqWui2rv_z1CqQC9...|      2011-07|\n|         3.33|   Hoss|           6|i_O2jcugpA-vLi1Ou...|      2011-04|\n|          5.0|  Maria|           2|DimqVMv_ob4qq1r3s...|      2013-04|\n|         3.57| Zennea|           7|2qdVsSxliXh08zdRd...|      2011-11|\n|          3.3|   Greg|          10|dzV0kgbNYS_GSnakC...|      2012-06|\n|          5.0|   Joel|           3|xBKjkix-8bV8oNA8v...|      2010-05|\n|         3.67| Alexis|           3|FtFKacw_3vZ4EJEdL...|      2012-07|\n|         3.81| Nicole|         106|5CKnvgKkOAbHc5K49...|      2008-04|\n|          5.0|   Lisa|           1|0h2Tax0FQmOcLvP-7...|      2010-07|\n|          3.0| Nicole|           3|qf7AdUm8mbFNa5Sm_...|      2013-05|\n|          5.0|    Amy|           2|ndF6-bw5qBPMF4bgs...|      2011-12|\n|         3.33| Sheila|           5|HhOr9_uVAFg9_u-S8...|      2013-06|\n|         4.25| Rachel|           4|DEe6VJPWAsPkTMez_...|      2011-04|\n+-------------+-------+------------+--------------------+-------------+\nonly showing top 20 rows\n",
					"output_type": "stream"
				}
			]
		},
		{
			"cell_type": "code",
			"source": "tip_user_df = tip_df.join(user_df,\"user_id\",\"inner\")\ntip_user_df.show()",
			"metadata": {
				"trusted": true
			},
			"execution_count": 58,
			"outputs": [
				{
					"name": "stdout",
					"text": "+--------------------+--------------------+----------+-----+--------------------+----+--------+---------+-------------+--------+------------+-------------+\n|             user_id|         business_id|      date|likes|                text|type|tip_year|tip_month|average_stars|    name|review_count|yelping_since|\n+--------------------+--------------------+----------+-----+--------------------+----+--------+---------+-------------+--------+------------+-------------+\n|VexAJmqOClKzm8KbY...|UETunq2HsmwW9pbsS...|2014-03-02|    0|Yep, get the big ...| tip|    2014|        3|         3.62|     Kay|         159|      2012-11|\n|VexAJmqOClKzm8KbY...|UETunq2HsmwW9pbsS...|2014-03-02|    0|With your combo, ...| tip|    2014|        3|         3.62|     Kay|         159|      2012-11|\n|V8VL7b1J5WOLrZrTE...|UETunq2HsmwW9pbsS...|2014-07-27|    0|Traditional fish ...| tip|    2014|        7|         3.91|     Jim|          11|      2011-10|\n|e9HWnHUYlt9758oil...|UETunq2HsmwW9pbsS...|2012-09-22|    0|Custom noodle style!| tip|    2012|        9|          3.7|   Geoff|          50|      2010-04|\n|jGuCy1xZnpIE0xppb...|8Zlm1VmscYMn_9LtK...|2013-02-23|    0|They clean your g...| tip|    2013|        2|         3.91|   April|          99|      2010-08|\n|wRq6j5TozIiyPfVnZ...|8Zlm1VmscYMn_9LtK...|2013-10-11|    0|     Shopping.. Love| tip|    2013|       10|         3.99|   Alice|         128|      2013-06|\n|4NrQ3rVKvIy4lvQqY...|8Zlm1VmscYMn_9LtK...|2014-07-12|    0|Elegant classy......| tip|    2014|        7|         4.75| Desiree|           4|      2010-06|\n|b2XPhXPQ41qWysIK6...|QjRviSpE_dMEuSX-f...|2013-03-30|    0|I found the most ...| tip|    2013|        3|         3.92|   Monet|          58|      2010-03|\n|DEc_48vZ1s70k-wfY...|Q19gSL2gPn-v0pOsn...|2013-06-17|    0|Be ready to share...| tip|    2013|        6|         3.82|     Caz|         194|      2011-11|\n|45hg3tzEPD-PnvSei...|Q19gSL2gPn-v0pOsn...|2013-04-14|    0|Fantastic!! Enoug...| tip|    2013|        4|          3.8| Lyndsey|           5|      2012-04|\n|TV2x0Wc8ZfmsUgQEt...|KvIVxlyFoOtSRuLeA...|2013-06-01|    0|Recommend the sha...| tip|    2013|        6|         3.85|   Nadya|         116|      2012-04|\n|6ux_7Z6ycYYvC8PNx...|C3ITrzv55LyMvwkm2...|2012-10-22|    0|If you've come in...| tip|    2012|       10|          4.1|Veronika|          21|      2012-07|\n|6ux_7Z6ycYYvC8PNx...|C3ITrzv55LyMvwkm2...|2012-12-15|    0|You don't need ti...| tip|    2012|       12|          4.1|Veronika|          21|      2012-07|\n|6ux_7Z6ycYYvC8PNx...|C3ITrzv55LyMvwkm2...|2013-04-14|    0|Officially the on...| tip|    2013|        4|          4.1|Veronika|          21|      2012-07|\n|t8mTGXXe8u5WF7mvN...|C3ITrzv55LyMvwkm2...|2013-12-13|    0|Wonderful farm sh...| tip|    2013|       12|         4.33|   Alisa|         120|      2010-09|\n|OtR7HfadZXyFYosUz...|C3ITrzv55LyMvwkm2...|2014-03-23|    0|     Sunny and cosy.| tip|    2014|        3|         3.55| Deborah|         112|      2007-01|\n|Xk8WOG4_2sayloIV7...|C3ITrzv55LyMvwkm2...|2012-08-10|    0|Very cool wee spo...| tip|    2012|        8|          4.0|    Jenn|          20|      2012-03|\n|zWpen_4YcuFnqzBSf...|hnKSsx218Bh9qxvRp...|2012-10-12|    0|             Closed.| tip|    2012|       10|         3.68|   Steve|          34|      2011-05|\n|4OFBC6ZZ6YC3_MB52...|hnKSsx218Bh9qxvRp...|2012-10-17|    0|This restaurant h...| tip|    2012|       10|          4.0|      Jo|           1|      2012-03|\n|ep26obtvoPtCPYJVi...|hnKSsx218Bh9qxvRp...|2012-08-07|    0|Management is try...| tip|    2012|        8|          1.5|    Will|           2|      2012-04|\n+--------------------+--------------------+----------+-----+--------------------+----+--------+---------+-------------+--------+------------+-------------+\nonly showing top 20 rows\n",
					"output_type": "stream"
				}
			]
		},
		{
			"cell_type": "code",
			"source": "tip_user_df.count()",
			"metadata": {
				"trusted": true
			},
			"execution_count": 59,
			"outputs": [
				{
					"name": "stdout",
					"text": "403210\n",
					"output_type": "stream"
				}
			]
		},
		{
			"cell_type": "code",
			"source": "#Most tipped year in desc order\nmost_tipped_year = tip_user_df.groupBy(\"tip_year\").count().orderBy(f.desc('count'))\nmost_tipped_year.show()",
			"metadata": {
				"trusted": true
			},
			"execution_count": 62,
			"outputs": [
				{
					"name": "stdout",
					"text": "+--------+------+\n|tip_year| count|\n+--------+------+\n|    2012|118777|\n|    2011| 97329|\n|    2013| 95870|\n|    2014| 63435|\n|    2010| 27301|\n|    2009|   498|\n+--------+------+\n",
					"output_type": "stream"
				}
			]
		},
		{
			"cell_type": "code",
			"source": "#Month , year most tipped in desc order\nmost_tipped_month_year = tip_user_df.groupBy(\"tip_year\",\"tip_month\").count().orderBy(f.desc('count'))\nmost_tipped_month_year.show()",
			"metadata": {
				"trusted": true
			},
			"execution_count": 63,
			"outputs": [
				{
					"name": "stdout",
					"text": "+--------+---------+-----+\n|tip_year|tip_month|count|\n+--------+---------+-----+\n|    2012|        7|12983|\n|    2012|        6|12644|\n|    2012|        8|12415|\n|    2012|        5|12060|\n|    2012|        3|11773|\n|    2012|        4|11159|\n|    2014|        3|10553|\n|    2014|        5|10251|\n|    2011|        8|10155|\n|    2012|        1| 9895|\n|    2014|        4| 9562|\n|    2011|        7| 9511|\n|    2012|        2| 9497|\n|    2011|       10| 9266|\n|    2011|        9| 9252|\n|    2011|       12| 9226|\n|    2013|        8| 9177|\n|    2011|       11| 8894|\n|    2014|        6| 8867|\n|    2013|        3| 8831|\n+--------+---------+-----+\nonly showing top 20 rows\n",
					"output_type": "stream"
				}
			]
		},
		{
			"cell_type": "code",
			"source": "#User who gave the maximum number of tips\nuser_max_tip_df = tip_user_df.group(\"user_id\").agg(f.count(\"review_count\").alias(\"total_review_count\"))\nuser_max_tip_df = user_max_tip_df.orderBy(f.desc('total_review_count'))\nuser_max_tip_df.show()",
			"metadata": {
				"trusted": true
			},
			"execution_count": null,
			"outputs": []
		},
		{
			"cell_type": "code",
			"source": "",
			"metadata": {},
			"execution_count": null,
			"outputs": []
		}
	]
}
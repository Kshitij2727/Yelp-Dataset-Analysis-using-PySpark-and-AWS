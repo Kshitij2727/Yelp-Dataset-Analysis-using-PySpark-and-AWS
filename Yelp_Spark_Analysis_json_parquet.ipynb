{
	"metadata": {
		"kernelspec": {
			"name": "glue_pyspark",
			"display_name": "Glue PySpark",
			"language": "python"
		},
		"language_info": {
			"name": "Python_Glue_Session",
			"mimetype": "text/x-python",
			"codemirror_mode": {
				"name": "python",
				"version": 3
			},
			"pygments_lexer": "python3",
			"file_extension": ".py"
		}
	},
	"nbformat_minor": 4,
	"nbformat": 4,
	"cells": [
		{
			"cell_type": "markdown",
			"source": "\n# Glue Studio Notebook\nYou are now running a **Glue Studio** notebook; before you can start using your notebook you *must* start an interactive session.\n\n## Available Magics\n|          Magic              |   Type       |                                                                        Description                                                                        |\n|-----------------------------|--------------|-----------------------------------------------------------------------------------------------------------------------------------------------------------|\n| %%configure                 |  Dictionary  |  A json-formatted dictionary consisting of all configuration parameters for a session. Each parameter can be specified here or through individual magics. |\n| %profile                    |  String      |  Specify a profile in your aws configuration to use as the credentials provider.                                                                          |\n| %iam_role                   |  String      |  Specify an IAM role to execute your session with.                                                                                                        |\n| %region                     |  String      |  Specify the AWS region in which to initialize a session                                                                                                  |\n| %session_id                 |  String      |  Returns the session ID for the running session.                                                                                                          |\n| %connections                |  List        |  Specify a comma separated list of connections to use in the session.                                                                                     |\n| %additional_python_modules  |  List        |  Comma separated list of pip packages, s3 paths or private pip arguments.                                                                                 |\n| %extra_py_files             |  List        |  Comma separated list of additional Python files from S3.                                                                                                 |\n| %extra_jars                 |  List        |  Comma separated list of additional Jars to include in the cluster.                                                                                       |\n| %number_of_workers          |  Integer     |  The number of workers of a defined worker_type that are allocated when a job runs. worker_type must be set too.                                          |\n| %worker_type                |  String      |  Standard, G.1X, *or* G.2X. number_of_workers must be set too. Default is G.1X                                                                            |\n| %glue_version               |  String      |  The version of Glue to be used by this session. Currently, the only valid options are 2.0 and 3.0 (eg: %glue_version 2.0)                                |\n| %security_config            |  String      |  Define a security configuration to be used with this session.                                                                                            |\n| %sql                        |  String      |  Run SQL code. All lines after the initial %%sql magic will be passed as part of the SQL code.                                                            |\n| %streaming                  |  String      |  Changes the session type to Glue Streaming.                                                                                                              |\n| %etl                        |  String      |   Changes the session type to Glue ETL.                                                                                                                   |\n| %status                     |              |  Returns the status of the current Glue session including its duration, configuration and executing user / role.                                          |\n| %stop_session               |              |  Stops the current session.                                                                                                                               |\n| %list_sessions              |              |  Lists all currently running sessions by name and ID.                                                                                                     |\n| %spark_conf                 |  String      |  Specify custom spark configurations for your session. E.g. %spark_conf spark.serializer=org.apache.spark.serializer.KryoSerializer                       |",
			"metadata": {
				"editable": false,
				"deletable": false,
				"trusted": true
			}
		},
		{
			"cell_type": "code",
			"source": "import sys\nfrom awsglue.transforms import *\nfrom awsglue.utils import getResolvedOptions\nfrom pyspark.context import SparkContext\nfrom awsglue.context import GlueContext\nfrom awsglue.job import Job\n  \nsc = SparkContext.getOrCreate()\nglueContext = GlueContext(sc)\nspark = glueContext.spark_session\njob = Job(glueContext)",
			"metadata": {
				"editable": true,
				"trusted": true
			},
			"execution_count": null,
			"outputs": [
				{
					"name": "stdout",
					"text": "Welcome to the Glue Interactive Sessions Kernel\nFor more information on available magic commands, please type %help in any new cell.\n\nPlease view our Getting Started page to access the most up-to-date information on the Interactive Sessions kernel: https://docs.aws.amazon.com/glue/latest/dg/interactive-sessions.html\nInstalled kernel version: 0.35 \nAuthenticating with environment variables and user-defined glue_role_arn: arn:aws:iam::601591369946:role/Kshitij_Glue_Service_and_S3\nTrying to create a Glue session for the kernel.\nWorker Type: G.1X\nNumber of Workers: 5\nSession ID: e4519cf0-9e11-4560-97eb-0b44ea2c650f\nApplying the following default arguments:\n--glue_kernel_version 0.35\n--enable-glue-datacatalog true\nWaiting for session e4519cf0-9e11-4560-97eb-0b44ea2c650f to get into ready status...\nSession e4519cf0-9e11-4560-97eb-0b44ea2c650f has been created\n\n\n",
					"output_type": "stream"
				}
			]
		},
		{
			"cell_type": "code",
			"source": "business_df = spark.read.json(\"s3://yelp-dataset-kshitij/input/yelp_academic_dataset_business.json\")\nbusiness_df = business_df.select(\"business_id\",business_df.categories,\"city\",\"review_count\",\"stars\",\"state\",\"type\")\nbusiness_df.show(20)",
			"metadata": {
				"trusted": true
			},
			"execution_count": 1,
			"outputs": [
				{
					"name": "stdout",
					"text": "+--------------------+--------------------+----------+------------+-----+-----+--------+\n|         business_id|          categories|      city|review_count|stars|state|    type|\n+--------------------+--------------------+----------+------------+-----+-----+--------+\n|vcNAWiLM4dR7D2nww...|[Doctors, Health ...|   Phoenix|           7|  3.5|   AZ|business|\n|JwUE5GmEO-sH1FuwJ...|       [Restaurants]| De Forest|          26|  4.0|   WI|business|\n|uGykseHzyS5xAMWoN...|[American (Tradit...| De Forest|          16|  4.0|   WI|business|\n|LRKJF43s9-3jG9Lgx...|[Food, Ice Cream ...| De Forest|           7|  4.5|   WI|business|\n|RgDg-k9S5YD_BaxMc...|[Chinese, Restaur...| De Forest|           3|  4.0|   WI|business|\n|oLctHIA1AxmsgOuu4...|[Television Stati...|Mc Farland|          10|  1.5|   WI|business|\n|ZW2WeP2Hp20tq0RG1...|[Home Services, H...|Mc Farland|           4|  2.0|   WI|business|\n|95p9Xg358BezJyk1w...|[Libraries, Publi...|Mc Farland|           4|  2.5|   WI|business|\n|rdAdANPNOcvUtoFgc...|[American (Tradit...|Mc Farland|          33|  3.5|   WI|business|\n|ZlhAvs_6ryi4_efZ1...|[Veterinarians, P...|Mc Farland|           3|  4.5|   WI|business|\n|_wZTYYL7cutanzAnJ...|[Bars, American (...|Mc Farland|          31|  3.5|   WI|business|\n|XrzTVrJAjs0yYLvhF...|[Hotels & Travel,...|Mc Farland|           9|  5.0|   WI|business|\n|1tkeiIa-daD8LbM6m...|[Active Life, Bow...|Mc Farland|           3|  1.5|   WI|business|\n|zOc8lbjViUZajbY7M...|[Pizza, Restaurants]|Mc Farland|           4|  3.5|   WI|business|\n|UgjVZTSOaYoEvws_l...|[Chinese, Restaur...|Mc Farland|           8|  3.5|   WI|business|\n|HxPpZSY6Q1eARuiah...|[Event Planning &...| Middleton|           5|  4.0|   WI|business|\n|SKLw05kEIlZcpTD5p...|[Party & Event Pl...| Middleton|          41|  3.0|   WI|business|\n|77ESrCo7hQ96VpCWW...|[Mexican, Restaur...| Middleton|          17|  3.0|   WI|business|\n|9brW55Vzyi3ItboHW...|[Auto Repair, Aut...| Middleton|           5|  2.5|   WI|business|\n|368m5-RtrrYWf4hPM...|[Active Life, Art...| Middleton|           3|  3.5|   WI|business|\n+--------------------+--------------------+----------+------------+-----+-----+--------+\nonly showing top 20 rows\n",
					"output_type": "stream"
				}
			]
		},
		{
			"cell_type": "code",
			"source": "business_df.write.mode(\"overwrite\").parquet(\"s3://yelp-dataset-kshitij/output/yelp_academic_dataset_business\")",
			"metadata": {
				"trusted": true
			},
			"execution_count": 4,
			"outputs": [
				{
					"name": "stdout",
					"text": "\n",
					"output_type": "stream"
				}
			]
		},
		{
			"cell_type": "code",
			"source": "business_df = spark.read.parquet(\"s3://yelp-dataset-kshitij/output/yelp_academic_dataset_business/*.parquet\")",
			"metadata": {
				"trusted": true
			},
			"execution_count": 9,
			"outputs": [
				{
					"name": "stdout",
					"text": "\n",
					"output_type": "stream"
				}
			]
		},
		{
			"cell_type": "code",
			"source": "business_df.rdd.getNumPartitions()\n#business_id|          categories|      city|review_count|stars|state|    type",
			"metadata": {
				"trusted": true
			},
			"execution_count": 27,
			"outputs": [
				{
					"name": "stdout",
					"text": "9\n",
					"output_type": "stream"
				}
			]
		},
		{
			"cell_type": "code",
			"source": "business_df.repartition(20).rdd.getNumPartitions()",
			"metadata": {
				"trusted": true
			},
			"execution_count": 28,
			"outputs": [
				{
					"name": "stdout",
					"text": "20\n",
					"output_type": "stream"
				}
			]
		},
		{
			"cell_type": "code",
			"source": "business_df.coalesce(5).rdd.getNumPartitions()",
			"metadata": {
				"trusted": true
			},
			"execution_count": 29,
			"outputs": [
				{
					"name": "stdout",
					"text": "5\n",
					"output_type": "stream"
				}
			]
		},
		{
			"cell_type": "code",
			"source": "tip_df = spark.read.json(\"s3://yelp-dataset-kshitij/input/yelp_academic_dataset_tip.json\")\ntip_df.show(20)\n#tip_df = business_df.select(\"business_id\",business_df.categories,\"city\",\"review_count\",\"stars\",\"state\",\"type\")",
			"metadata": {
				"trusted": true
			},
			"execution_count": 30,
			"outputs": [
				{
					"name": "stdout",
					"text": "+--------------------+----------+-----+--------------------+----+--------------------+\n|         business_id|      date|likes|                text|type|             user_id|\n+--------------------+----------+-----+--------------------+----+--------------------+\n|JwUE5GmEO-sH1FuwJ...|2012-05-16|    0|Great food, huge ...| tip|Vefj29mjork1DLhAL...|\n|JwUE5GmEO-sH1FuwJ...|2014-03-29|    0|Great bakery. Gre...| tip|Bbm6c5CHf5IJG5ju0...|\n|JwUE5GmEO-sH1FuwJ...|2011-09-29|    0|The desserts are ...| tip|IORZRljfUkedhh1SG...|\n|uGykseHzyS5xAMWoN...|2013-07-20|    0|There are too man...| tip|Bdmk6RQUP0sbXA_V9...|\n|uGykseHzyS5xAMWoN...|2013-08-03|    0|Really good place...| tip|fjGh54rTqVn0ECKro...|\n|LRKJF43s9-3jG9Lgx...|2012-04-14|    0|     get onion rings| tip|4Z4Bv3gEMbEmncLDD...|\n|LRKJF43s9-3jG9Lgx...|2012-05-06|    0|              Amaze!| tip|AHN3LdMw5L0DIJ5an...|\n|RgDg-k9S5YD_BaxMc...|2011-08-19|    0|They always give ...| tip|u5xcw6LCnnMhddoxk...|\n|RgDg-k9S5YD_BaxMc...|2011-05-29|    0|        House noodle| tip|kj18hvJRPLepZPNL7...|\n|95p9Xg358BezJyk1w...|2014-06-12|    0|Needs more books ...| tip|5SpVLn2FV2V_ORdug...|\n|rdAdANPNOcvUtoFgc...|2012-02-17|    0|Wonderful fish fr...| tip|rL7XG25E24mErfg9s...|\n|rdAdANPNOcvUtoFgc...|2012-06-07|    0|Ole divey place t...| tip|hhVKwwMkejIS9f5_O...|\n|rdAdANPNOcvUtoFgc...|2013-03-08|    0|Long wait!  Make ...| tip|_ohPF8fo5ifWiMOrE...|\n|rdAdANPNOcvUtoFgc...|2013-04-27|    0|The \"Greenie\" is ...| tip|160obinCFJkK32rhC...|\n|rdAdANPNOcvUtoFgc...|2013-06-09|    0|Very down to eart...| tip|kI_3aHN5IkxRQc9_O...|\n|rdAdANPNOcvUtoFgc...|2013-08-25|    0|Great views,  med...| tip|6itqz-263KipP0RKw...|\n|rdAdANPNOcvUtoFgc...|2013-10-13|    0|Always order the ...| tip|YA-SRBkkVZEbDFv6G...|\n|rdAdANPNOcvUtoFgc...|2014-01-18|    0|Love coming by bo...| tip|GDFe4IjvsS1-aVJXq...|\n|rdAdANPNOcvUtoFgc...|2014-02-07|    0|Maybe we caught t...| tip|RABj0zfAcnKPnxLVw...|\n|rdAdANPNOcvUtoFgc...|2012-01-08|    0|Dont forget you m...| tip|Jv6lq527bHVW1Ebrq...|\n+--------------------+----------+-----+--------------------+----+--------------------+\nonly showing top 20 rows\n",
					"output_type": "stream"
				}
			]
		},
		{
			"cell_type": "code",
			"source": "tip_df.write.mode(\"overwrite\").parquet(\"s3://yelp-dataset-kshitij/output/yelp_academic_dataset_tip\")",
			"metadata": {
				"trusted": true
			},
			"execution_count": 31,
			"outputs": [
				{
					"name": "stdout",
					"text": "\n",
					"output_type": "stream"
				}
			]
		},
		{
			"cell_type": "code",
			"source": "user_df = spark.read.json(\"s3://yelp-dataset-kshitij/input/yelp_academic_dataset_user.json\")\nuser_df.show(20)",
			"metadata": {
				"trusted": true
			},
			"execution_count": 32,
			"outputs": [
				{
					"name": "stdout",
					"text": "+-------------+--------------------+-----+----+--------------------+--------+------------+----+--------------------+------------+-------------+\n|average_stars|         compliments|elite|fans|             friends|    name|review_count|type|             user_id|       votes|yelping_since|\n+-------------+--------------------+-----+----+--------------------+--------+------------+----+--------------------+------------+-------------+\n|         3.83|        [,,,,,,,,,,]|   []|   0|                  []|     Lee|           6|user|qtrmBGNqCvupHMHL_...|   [0, 1, 5]|      2012-02|\n|          5.0|        [,,,,,,,,,,]|   []|   0|[8Y2EN4XNNhnwssuP...| Matthew|           1|user|MWhR9LvOdRbqtu1I_...|   [0, 0, 0]|      2011-12|\n|          5.0|[2,, 1,,, 2,, 1,,...|   []|   1|[8wK7_qZ18mokBxw5...| Jasmine|          22|user|0vscrHoajVRa1Yk19...| [11, 5, 20]|      2010-09|\n|          1.0|        [,,,,,,,,,,]|   []|   0|                  []|  Harley|           1|user|5Xh4Qc3rxhAQ_NcNt...|   [0, 0, 1]|      2012-01|\n|         4.33|        [,,,,,,,,,,]|   []|   0|                  []|   Tyler|           6|user|4dJLZvpYRcjQ6qDR5...|   [1, 2, 6]|      2011-08|\n|         3.19|        [,,,,,,,,,,]|   []|   0|                  []|    Gary|          21|user|e-G2NEjH2PCIl_Z6j...|[21, 16, 70]|      2008-10|\n|         3.97|[3,, 1,,,,, 1, 2,...|   []|   4|[0DuUBFaOLSehYIV8...|    Jody|          74|user|Yap-E13OdirLr9w_X...|[39, 33, 72]|      2008-06|\n|         3.58|[3,, 2, 4,, 2, 1,...|   []|   2|[EVWnjbS4hVbspI0M...| Azariah|          38|user|BwvlE7SguUtXP-Inn...|[18, 23, 28]|      2010-04|\n|          2.0|        [,,,,,,,,,,]|   []|   0|                  []|   Keith|           1|user|uygg55wWaEP0xTR7d...|   [0, 0, 0]|      2014-05|\n|          4.0|      [,,,,,,,, 1,,]|   []|   0|[ND6DMIKxM8Q1ShEM...|Clarinda|           9|user|as22TLsZn_SwVv4oC...|   [0, 0, 2]|      2013-11|\n|          3.6|        [,,,,,,,,,,]|   []|   0|                  []|     Dan|           9|user|9Tnds0bhPScGEBXbK...|   [0, 0, 4]|      2012-12|\n|          5.0|     [2,,,,,, 1,,,,]|   []|   0|[pG9docIFmOtbit0K...|  Marisa|           4|user|3CQazRodHswFak5RK...|   [1, 0, 3]|      2010-07|\n|          5.0|        [,,,,,,,,,,]|   []|   0|                  []| Vanessa|           2|user|-HIWRVIPcrjFyg1g0...|   [0, 0, 2]|      2011-09|\n|          2.0|      [,, 2,,,,,,,,]|   []|   0|                  []| Dickman|           4|user|kTpGfnUhc2EBWQCB1...|   [1, 4, 2]|      2013-07|\n|         2.57|    [,,,,, 1,,,,, 1]|   []|   0|[FwF627yIH7ktFmt9...|   Scott|          30|user|pmAPF4XwHv4U7DKvP...|[12, 19, 76]|      2011-04|\n|          4.5|        [,,,,,,,,,,]|   []|   0|                  []| Cecilia|           2|user|SfwiccRY_tqPYEHvG...|   [0, 0, 1]|      2010-07|\n|          3.5|        [,,,,,,,,,,]|   []|   0|                  []|  Martin|           8|user|vpQhhoQzLQZLXuChd...|  [2, 3, 16]|      2008-10|\n|         2.25|        [,,,,,,,,,,]|   []|   0|[90a6z--_CUrl84aC...|    bill|           4|user|MtX0WZ4bqMfFuYvtu...|  [5, 1, 10]|      2010-01|\n|          5.0|        [,,,,,,,,,,]|   []|   0|[eJGh4UF0zHIPPLZG...| Barbara|           1|user|63FT2RenrN1CKIctD...|   [0, 0, 1]|      2012-06|\n|          3.5|        [,,,,,,,,,,]|   []|   0|                  []|Margaret|           3|user|GVg3PFwhmjyZUoSnL...|   [0, 0, 1]|      2013-08|\n+-------------+--------------------+-----+----+--------------------+--------+------------+----+--------------------+------------+-------------+\nonly showing top 20 rows\n",
					"output_type": "stream"
				}
			]
		},
		{
			"cell_type": "code",
			"source": "user_df= user_df.select(\"average_stars\",\"name\",\"review_count\",\"user_id\",\"yelping_since\",\"votes\")\nuser_df.printSchema()",
			"metadata": {
				"trusted": true
			},
			"execution_count": 37,
			"outputs": [
				{
					"name": "stdout",
					"text": "root\n |-- average_stars: double (nullable = true)\n |-- name: string (nullable = true)\n |-- review_count: long (nullable = true)\n |-- user_id: string (nullable = true)\n |-- yelping_since: string (nullable = true)\n |-- votes: struct (nullable = true)\n |    |-- cool: long (nullable = true)\n |    |-- funny: long (nullable = true)\n |    |-- useful: long (nullable = true)\n",
					"output_type": "stream"
				}
			]
		},
		{
			"cell_type": "code",
			"source": "user_df_new= user_df.select(\"*\", user_df.votes.cool.alias(\"cool_votes\") , user_df.votes.funny.alias(\"funny_votes\") , user_df.votes.useful.alias(\"useful_votes\"))",
			"metadata": {
				"trusted": true
			},
			"execution_count": 39,
			"outputs": [
				{
					"name": "stdout",
					"text": "+-------------+--------+------------+--------------------+-------------+------------+----------+-----------+------------+\n|average_stars|    name|review_count|             user_id|yelping_since|       votes|cool_votes|funny_votes|useful_votes|\n+-------------+--------+------------+--------------------+-------------+------------+----------+-----------+------------+\n|         3.83|     Lee|           6|qtrmBGNqCvupHMHL_...|      2012-02|   [0, 1, 5]|         0|          1|           5|\n|          5.0| Matthew|           1|MWhR9LvOdRbqtu1I_...|      2011-12|   [0, 0, 0]|         0|          0|           0|\n|          5.0| Jasmine|          22|0vscrHoajVRa1Yk19...|      2010-09| [11, 5, 20]|        11|          5|          20|\n|          1.0|  Harley|           1|5Xh4Qc3rxhAQ_NcNt...|      2012-01|   [0, 0, 1]|         0|          0|           1|\n|         4.33|   Tyler|           6|4dJLZvpYRcjQ6qDR5...|      2011-08|   [1, 2, 6]|         1|          2|           6|\n|         3.19|    Gary|          21|e-G2NEjH2PCIl_Z6j...|      2008-10|[21, 16, 70]|        21|         16|          70|\n|         3.97|    Jody|          74|Yap-E13OdirLr9w_X...|      2008-06|[39, 33, 72]|        39|         33|          72|\n|         3.58| Azariah|          38|BwvlE7SguUtXP-Inn...|      2010-04|[18, 23, 28]|        18|         23|          28|\n|          2.0|   Keith|           1|uygg55wWaEP0xTR7d...|      2014-05|   [0, 0, 0]|         0|          0|           0|\n|          4.0|Clarinda|           9|as22TLsZn_SwVv4oC...|      2013-11|   [0, 0, 2]|         0|          0|           2|\n|          3.6|     Dan|           9|9Tnds0bhPScGEBXbK...|      2012-12|   [0, 0, 4]|         0|          0|           4|\n|          5.0|  Marisa|           4|3CQazRodHswFak5RK...|      2010-07|   [1, 0, 3]|         1|          0|           3|\n|          5.0| Vanessa|           2|-HIWRVIPcrjFyg1g0...|      2011-09|   [0, 0, 2]|         0|          0|           2|\n|          2.0| Dickman|           4|kTpGfnUhc2EBWQCB1...|      2013-07|   [1, 4, 2]|         1|          4|           2|\n|         2.57|   Scott|          30|pmAPF4XwHv4U7DKvP...|      2011-04|[12, 19, 76]|        12|         19|          76|\n|          4.5| Cecilia|           2|SfwiccRY_tqPYEHvG...|      2010-07|   [0, 0, 1]|         0|          0|           1|\n|          3.5|  Martin|           8|vpQhhoQzLQZLXuChd...|      2008-10|  [2, 3, 16]|         2|          3|          16|\n|         2.25|    bill|           4|MtX0WZ4bqMfFuYvtu...|      2010-01|  [5, 1, 10]|         5|          1|          10|\n|          5.0| Barbara|           1|63FT2RenrN1CKIctD...|      2012-06|   [0, 0, 1]|         0|          0|           1|\n|          3.5|Margaret|           3|GVg3PFwhmjyZUoSnL...|      2013-08|   [0, 0, 1]|         0|          0|           1|\n+-------------+--------+------------+--------------------+-------------+------------+----------+-----------+------------+\nonly showing top 20 rows\n",
					"output_type": "stream"
				}
			]
		},
		{
			"cell_type": "code",
			"source": "user_df_new= user_df.drop(\"votes\")\nuser_df_new.write.mode(\"overwrite\").parquet(\"s3://yelp-dataset-kshitij/output/yelp_academic_dataset_user\")",
			"metadata": {
				"trusted": true
			},
			"execution_count": 40,
			"outputs": [
				{
					"name": "stdout",
					"text": "\n",
					"output_type": "stream"
				}
			]
		},
		{
			"cell_type": "code",
			"source": "review_df = spark.read.json(\"s3://yelp-dataset-kshitij/input/yelp_academic_dataset_review.json\")",
			"metadata": {
				"trusted": true
			},
			"execution_count": 41,
			"outputs": [
				{
					"name": "stdout",
					"text": "\n",
					"output_type": "stream"
				}
			]
		},
		{
			"cell_type": "code",
			"source": "review_df.show()",
			"metadata": {
				"trusted": true
			},
			"execution_count": 42,
			"outputs": [
				{
					"name": "stdout",
					"text": "+--------------------+----------+--------------------+-----+--------------------+------+--------------------+---------+\n|         business_id|      date|           review_id|stars|                text|  type|             user_id|    votes|\n+--------------------+----------+--------------------+-----+--------------------+------+--------------------+---------+\n|vcNAWiLM4dR7D2nww...|2007-05-17|15SdjuK7DmYqUAj6r...|    5|dr. goldberg offe...|review|Xqd0DzHaiyRqVH3WR...|[1, 0, 2]|\n|vcNAWiLM4dR7D2nww...|2010-03-22|RF6UnRTtG7tWMcrO2...|    2|Unfortunately, th...|review|H1kH6QZV7Le4zqTRN...|[0, 0, 2]|\n|vcNAWiLM4dR7D2nww...|2012-02-14|-TsVN230RCkLYKBeL...|    4|Dr. Goldberg has ...|review|zvJCcrpm2yOZrxKff...|[1, 0, 1]|\n|vcNAWiLM4dR7D2nww...|2012-03-02|dNocEAyUucjT371NN...|    4|Been going to Dr....|review|KBLW4wJA_fwoWmMhi...|[0, 0, 0]|\n|vcNAWiLM4dR7D2nww...|2012-05-15|ebcN2aqmNUuYNoyvQ...|    4|Got a letter in t...|review|zvJCcrpm2yOZrxKff...|[1, 0, 2]|\n|vcNAWiLM4dR7D2nww...|2013-04-19|_ePLBPrkrf4bhyiKW...|    1|I don't know what...|review|Qrs3EICADUKNFoUq2...|[0, 0, 0]|\n|vcNAWiLM4dR7D2nww...|2014-01-02|kMu0knsSUFW2DZXqK...|    5|Top notch doctor ...|review|jE5xVugujSaskAoh2...|[0, 0, 0]|\n|vcNAWiLM4dR7D2nww...|2014-01-08|onDPFgNZpMk-bT1zl...|    5|Dr. Eric Goldberg...|review|QnhQ8G51XbUpVEyWY...|[0, 0, 0]|\n|JwUE5GmEO-sH1FuwJ...|2008-07-07|I7Kte2FwXWPCwdm7i...|    4|Pretty good dinne...|review|zvNimI98mrmhgNOOr...|[0, 0, 1]|\n|JwUE5GmEO-sH1FuwJ...|2009-05-03|9uHZyOu5CTCDl1L6c...|    4|Good truck stop d...|review|p4ySEi8PEli0auZGB...|[0, 0, 0]|\n|JwUE5GmEO-sH1FuwJ...|2009-05-04|ow1c4Lcl3ObWxDC2y...|    4|If you like lot l...|review|ZYaumz29bl9qHpu-K...|[0, 6, 0]|\n|JwUE5GmEO-sH1FuwJ...|2010-10-30|FRTCszJWkJonDAZx3...|    4|Enjoyable experie...|review|SvS7NXWG2B2kFoaHa...|[0, 0, 0]|\n|JwUE5GmEO-sH1FuwJ...|2011-02-06|qQIvtbqUujvvnJDzP...|    4|One of my favorit...|review|qOYI9O0ecMJ9VaqcM...|[0, 0, 0]|\n|JwUE5GmEO-sH1FuwJ...|2011-03-31|4iPPOQIo5Mr1NAUPU...|    4|Only went here on...|review|EEYwj6_t1OT5WQGyp...|[0, 0, 0]|\n|JwUE5GmEO-sH1FuwJ...|2011-11-08|Rnm1KyfRcwNt9bOI5...|    4|Great truck stop ...|review|bfww9ItvUBeRsFQ4U...|[0, 0, 1]|\n|JwUE5GmEO-sH1FuwJ...|2011-12-29|SSlO5u2nIJ8PoAKAg...|    5|Yeah, thats right...|review|Au3Qs-AAZEWu2_4gI...|[0, 2, 5]|\n|JwUE5GmEO-sH1FuwJ...|2012-01-08|_utPYHIdXeq8CqQ4i...|    3|Ate a Saturday mo...|review|MnXcXwr0keJpkIiwu...|[0, 0, 1]|\n|JwUE5GmEO-sH1FuwJ...|2012-01-08|6wFJ0Ml7r9elqjeoe...|    4|Attention fans of...|review|-hwN2juKYn-KTxa2W...|[0, 1, 1]|\n|JwUE5GmEO-sH1FuwJ...|2012-02-13|rgM9f8Xh6ySclVoOS...|    5|i rarely give fiv...|review|MPKMK36Xp0GuaWaXl...|[1, 2, 4]|\n|JwUE5GmEO-sH1FuwJ...|2012-02-16|khGSK7FRLuRWnnTE6...|    4|With a recent add...|review|pgKOL4k5tWCWS9VIc...|[0, 0, 1]|\n+--------------------+----------+--------------------+-----+--------------------+------+--------------------+---------+\nonly showing top 20 rows\n",
					"output_type": "stream"
				}
			]
		},
		{
			"cell_type": "code",
			"source": "review_df.printSchema()",
			"metadata": {
				"trusted": true
			},
			"execution_count": 43,
			"outputs": [
				{
					"name": "stdout",
					"text": "root\n |-- business_id: string (nullable = true)\n |-- date: string (nullable = true)\n |-- review_id: string (nullable = true)\n |-- stars: long (nullable = true)\n |-- text: string (nullable = true)\n |-- type: string (nullable = true)\n |-- user_id: string (nullable = true)\n |-- votes: struct (nullable = true)\n |    |-- cool: long (nullable = true)\n |    |-- funny: long (nullable = true)\n |    |-- useful: long (nullable = true)\n",
					"output_type": "stream"
				}
			]
		},
		{
			"cell_type": "code",
			"source": "review_df = review_df.select(\"business_id\",\"date\",\"review_id\",\"stars\",\"user_id\")\nreview_df.show()",
			"metadata": {
				"trusted": true
			},
			"execution_count": 44,
			"outputs": [
				{
					"name": "stdout",
					"text": "+--------------------+----------+--------------------+-----+--------------------+\n|         business_id|      date|           review_id|stars|             user_id|\n+--------------------+----------+--------------------+-----+--------------------+\n|vcNAWiLM4dR7D2nww...|2007-05-17|15SdjuK7DmYqUAj6r...|    5|Xqd0DzHaiyRqVH3WR...|\n|vcNAWiLM4dR7D2nww...|2010-03-22|RF6UnRTtG7tWMcrO2...|    2|H1kH6QZV7Le4zqTRN...|\n|vcNAWiLM4dR7D2nww...|2012-02-14|-TsVN230RCkLYKBeL...|    4|zvJCcrpm2yOZrxKff...|\n|vcNAWiLM4dR7D2nww...|2012-03-02|dNocEAyUucjT371NN...|    4|KBLW4wJA_fwoWmMhi...|\n|vcNAWiLM4dR7D2nww...|2012-05-15|ebcN2aqmNUuYNoyvQ...|    4|zvJCcrpm2yOZrxKff...|\n|vcNAWiLM4dR7D2nww...|2013-04-19|_ePLBPrkrf4bhyiKW...|    1|Qrs3EICADUKNFoUq2...|\n|vcNAWiLM4dR7D2nww...|2014-01-02|kMu0knsSUFW2DZXqK...|    5|jE5xVugujSaskAoh2...|\n|vcNAWiLM4dR7D2nww...|2014-01-08|onDPFgNZpMk-bT1zl...|    5|QnhQ8G51XbUpVEyWY...|\n|JwUE5GmEO-sH1FuwJ...|2008-07-07|I7Kte2FwXWPCwdm7i...|    4|zvNimI98mrmhgNOOr...|\n|JwUE5GmEO-sH1FuwJ...|2009-05-03|9uHZyOu5CTCDl1L6c...|    4|p4ySEi8PEli0auZGB...|\n|JwUE5GmEO-sH1FuwJ...|2009-05-04|ow1c4Lcl3ObWxDC2y...|    4|ZYaumz29bl9qHpu-K...|\n|JwUE5GmEO-sH1FuwJ...|2010-10-30|FRTCszJWkJonDAZx3...|    4|SvS7NXWG2B2kFoaHa...|\n|JwUE5GmEO-sH1FuwJ...|2011-02-06|qQIvtbqUujvvnJDzP...|    4|qOYI9O0ecMJ9VaqcM...|\n|JwUE5GmEO-sH1FuwJ...|2011-03-31|4iPPOQIo5Mr1NAUPU...|    4|EEYwj6_t1OT5WQGyp...|\n|JwUE5GmEO-sH1FuwJ...|2011-11-08|Rnm1KyfRcwNt9bOI5...|    4|bfww9ItvUBeRsFQ4U...|\n|JwUE5GmEO-sH1FuwJ...|2011-12-29|SSlO5u2nIJ8PoAKAg...|    5|Au3Qs-AAZEWu2_4gI...|\n|JwUE5GmEO-sH1FuwJ...|2012-01-08|_utPYHIdXeq8CqQ4i...|    3|MnXcXwr0keJpkIiwu...|\n|JwUE5GmEO-sH1FuwJ...|2012-01-08|6wFJ0Ml7r9elqjeoe...|    4|-hwN2juKYn-KTxa2W...|\n|JwUE5GmEO-sH1FuwJ...|2012-02-13|rgM9f8Xh6ySclVoOS...|    5|MPKMK36Xp0GuaWaXl...|\n|JwUE5GmEO-sH1FuwJ...|2012-02-16|khGSK7FRLuRWnnTE6...|    4|pgKOL4k5tWCWS9VIc...|\n+--------------------+----------+--------------------+-----+--------------------+\nonly showing top 20 rows\n",
					"output_type": "stream"
				}
			]
		},
		{
			"cell_type": "code",
			"source": "review_df.write.mode(\"overwrite\").parquet(\"s3://yelp-dataset-kshitij/output/yelp_academic_dataset_review\")",
			"metadata": {
				"trusted": true
			},
			"execution_count": 45,
			"outputs": [
				{
					"name": "stdout",
					"text": "\n",
					"output_type": "stream"
				}
			]
		},
		{
			"cell_type": "code",
			"source": "",
			"metadata": {},
			"execution_count": null,
			"outputs": []
		}
	]
}